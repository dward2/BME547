{
 "cells": [
  {
   "cell_type": "markdown",
   "id": "cdd22896-16ff-40c3-bd5d-08d345cf786f",
   "metadata": {},
   "source": [
    "# Class Attributes and Methods\n",
    "\n",
    "Attributes (sometimes called properties) and methods can be associated with the class itself rather than an instance of a class.\n",
    "\n",
    "Let's look at the example below.  A class called `FlowDataPoint` is defined."
   ]
  },
  {
   "cell_type": "code",
   "execution_count": 1,
   "id": "4f799843-c4be-4dd6-a585-705fde6fb04a",
   "metadata": {},
   "outputs": [],
   "source": [
    "class FlowDataPoint:\n",
    "\n",
    "    unit_system = \"Metric\"\n",
    "    # For Metric, flow in L/sec\n",
    "    # For Imperial, flow in gal/sec\n",
    "\n",
    "    def __init__(self, time_sec, flow_rate):\n",
    "        self.time_sec = time_sec\n",
    "        self.flow_rate = flow_rate\n",
    "\n",
    "    def get_flow_rate(self):\n",
    "        if self.unit_system == \"Metric\":\n",
    "            return self.flow_rate\n",
    "        else:\n",
    "            return self.convert_liter_to_gallon(self.flow_rate)\n",
    "\n",
    "    @classmethod\n",
    "    def convert_liter_to_gallon(cls, vol_liter):\n",
    "        vol_gallon = vol_liter / 4.54609\n",
    "        return vol_gallon"
   ]
  },
  {
   "cell_type": "markdown",
   "id": "eae6119f-ecef-4715-bea8-b80daf606922",
   "metadata": {},
   "source": [
    "## Class Attributes\n",
    "The attribute `unit_system` defined outside of any method is called a class attribute.  We access a class attribute by referencing the class name followed by the attribute name.  For example:  `FlowDataPoint.unit_system`."
   ]
  },
  {
   "cell_type": "code",
   "execution_count": 2,
   "id": "8df760a9-3010-45f8-ae15-dad8bca35aff",
   "metadata": {},
   "outputs": [
    {
     "name": "stdout",
     "output_type": "stream",
     "text": [
      "The memory location of the class FlowDataPoint is  2606396723216\n",
      "The FlowDataPoint.unit_system is  Metric\n",
      "It's memory location is  2606415364400\n"
     ]
    }
   ],
   "source": [
    "print(\"The memory location of the class FlowDataPoint is \", id(FlowDataPoint))\n",
    "print(\"The FlowDataPoint.unit_system is \",FlowDataPoint.unit_system)\n",
    "print(\"It's memory location is \", id(FlowDataPoint.unit_system))"
   ]
  },
  {
   "cell_type": "markdown",
   "id": "fb80c660-62dd-4602-8c2d-a4b43078e40a",
   "metadata": {},
   "source": [
    "Since the `unit_system` attribute is not given the `self.` prefix, it's value will not be associated with any specific instance of the class but is associated with the class itself and all instances of the class will have this same value.  To demonstrate this, let's create three flow data points.\n"
   ]
  },
  {
   "cell_type": "code",
   "execution_count": 3,
   "id": "dcf340d4-19eb-40c5-9cc3-fb163f37d310",
   "metadata": {},
   "outputs": [],
   "source": [
    "flow_point_1 = FlowDataPoint(1.0, 2.0)\n",
    "flow_point_2 = FlowDataPoint(5.0, 10.0)\n",
    "flow_point_3 = FlowDataPoint(15.0, 30.0)"
   ]
  },
  {
   "cell_type": "markdown",
   "id": "2dfd87c9-9b7a-4279-9228-69e452ef7757",
   "metadata": {},
   "source": [
    "Next, let's print out some information about these data points.  Note you can access the class attribute by also referencing the name of an instance (for example, `flow_point_1.unit_system`)."
   ]
  },
  {
   "cell_type": "code",
   "execution_count": 4,
   "id": "97df270b-1cbc-4ffd-b9ac-60613538124c",
   "metadata": {},
   "outputs": [],
   "source": [
    "def print_info_about_FlowDataPoints():\n",
    "    print(\"Variable        Memory Loc    unit_system value  ID of unit_system\")\n",
    "    for i, point in enumerate([flow_point_1, flow_point_2, flow_point_3]):\n",
    "        print(\"flow_point_{}  {:15}    {:10}    {:15}\".format(i+1, id(point), point.unit_system, id(point.unit_system)))\n",
    "    print(\"FlowDataPoint {:15}    {:10}    {:15}\".format(id(FlowDataPoint), FlowDataPoint.unit_system, id(FlowDataPoint.unit_system)))\n",
    "          \n",
    "    "
   ]
  },
  {
   "cell_type": "code",
   "execution_count": 5,
   "id": "42ec036f-76af-4a55-b85b-8b97dd9d804a",
   "metadata": {},
   "outputs": [
    {
     "name": "stdout",
     "output_type": "stream",
     "text": [
      "Variable        Memory Loc    unit_system value  ID of unit_system\n",
      "flow_point_1    2606415594128    Metric          2606415364400\n",
      "flow_point_2    2606415595408    Metric          2606415364400\n",
      "flow_point_3    2606415595856    Metric          2606415364400\n",
      "FlowDataPoint   2606396723216    Metric          2606415364400\n"
     ]
    }
   ],
   "source": [
    "print_info_about_FlowDataPoints()"
   ]
  },
  {
   "cell_type": "markdown",
   "id": "c8960f0b-d9dd-4ad9-b48c-32df3d6aecc7",
   "metadata": {},
   "source": [
    "In the above chart, we see that the `unit_system` attribute of each instance of the class points to the same memory location as the `FlowDataPoint.unit_system` attribute.  All instances of the class have the same value of this class attribute.\n",
    "\n",
    "Now, let's see what happens when we change this class attribute.  "
   ]
  },
  {
   "cell_type": "code",
   "execution_count": 6,
   "id": "3b0b3fe4-5434-4217-bca5-4148a06a92f3",
   "metadata": {},
   "outputs": [],
   "source": [
    "FlowDataPoint.unit_system = \"Imperial\""
   ]
  },
  {
   "cell_type": "code",
   "execution_count": 7,
   "id": "d9a5199f-fe7f-4752-87c8-63fabf6bfa57",
   "metadata": {},
   "outputs": [
    {
     "name": "stdout",
     "output_type": "stream",
     "text": [
      "Variable        Memory Loc    unit_system value  ID of unit_system\n",
      "flow_point_1    2606415594128    Imperial        2606415570608\n",
      "flow_point_2    2606415595408    Imperial        2606415570608\n",
      "flow_point_3    2606415595856    Imperial        2606415570608\n",
      "FlowDataPoint   2606396723216    Imperial        2606415570608\n"
     ]
    }
   ],
   "source": [
    "print_info_about_FlowDataPoints()"
   ]
  },
  {
   "cell_type": "markdown",
   "id": "4cf37ea2-2b82-433b-a64b-de5cbff19e00",
   "metadata": {},
   "source": [
    "All instances of the class now have the new value of the `FlowDataPoint.unit_system` class attribute.  The memory location has changed because strings are immutable and so required a new memory address.  But, all of the attributes point to this new variable.  And, if we make a new variable now, it will also point to this new location, as shown below."
   ]
  },
  {
   "cell_type": "code",
   "execution_count": 8,
   "id": "0e031bc3-2615-4686-a42f-755f41ea12cb",
   "metadata": {},
   "outputs": [
    {
     "name": "stdout",
     "output_type": "stream",
     "text": [
      "Variable        Memory Loc    unit_system value  ID of unit_system\n",
      "flow_point_4    2606415417744    Imperial        2606415570608\n"
     ]
    }
   ],
   "source": [
    "flow_point_4 = FlowDataPoint(4.0, 40.0)\n",
    "print(\"Variable        Memory Loc    unit_system value  ID of unit_system\")\n",
    "print(\"flow_point_4  {:15}    {:10}    {:15}\".format(id(flow_point_4), flow_point_4.unit_system, id(flow_point_4.unit_system)))"
   ]
  },
  {
   "cell_type": "markdown",
   "id": "9051ccc5-ae2d-4c3e-9bbd-43ef2578b29b",
   "metadata": {},
   "source": [
    "Now, what happens if we change this attribute by referencing an instance of the class, instead of the instance itself."
   ]
  },
  {
   "cell_type": "code",
   "execution_count": 9,
   "id": "0e056b6f-84c0-4059-989d-0905871ff83c",
   "metadata": {},
   "outputs": [],
   "source": [
    "flow_point_1.unit_system = \"Metric\""
   ]
  },
  {
   "cell_type": "code",
   "execution_count": 10,
   "id": "3bb8a47d-a910-4d8d-8e6b-18e6cc4f13c2",
   "metadata": {},
   "outputs": [
    {
     "name": "stdout",
     "output_type": "stream",
     "text": [
      "Variable        Memory Loc    unit_system value  ID of unit_system\n",
      "flow_point_1    2606415594128    Metric          2606415364400\n",
      "flow_point_2    2606415595408    Imperial        2606415570608\n",
      "flow_point_3    2606415595856    Imperial        2606415570608\n",
      "FlowDataPoint   2606396723216    Imperial        2606415570608\n"
     ]
    }
   ],
   "source": [
    "print_info_about_FlowDataPoints()"
   ]
  },
  {
   "cell_type": "markdown",
   "id": "70d5a6e8-ea18-4db1-8ebe-2999fcb05b56",
   "metadata": {},
   "source": [
    "Notice that `unit_system` only changed for this specific instance.  It did not change for the class attribute or any of the other class instances.  By assigning a value to the attribute at the instance level, we essentially change that attribute to an instance attribute instead of a class attribute, for that instance alone.  What happens if we now change the `FlowDataPoint.unit_system` class attribute?"
   ]
  },
  {
   "cell_type": "code",
   "execution_count": 11,
   "id": "125a840a-3f70-40c5-8297-1049369c71a4",
   "metadata": {},
   "outputs": [],
   "source": [
    "FlowDataPoint.unit_system = \"Other\""
   ]
  },
  {
   "cell_type": "code",
   "execution_count": 12,
   "id": "98aaff9f-2b11-41e1-b4ce-9fdab2a2c448",
   "metadata": {},
   "outputs": [
    {
     "name": "stdout",
     "output_type": "stream",
     "text": [
      "Variable        Memory Loc    unit_system value  ID of unit_system\n",
      "flow_point_1    2606415594128    Metric          2606415364400\n",
      "flow_point_2    2606415595408    Other           2606370888816\n",
      "flow_point_3    2606415595856    Other           2606370888816\n",
      "FlowDataPoint   2606396723216    Other           2606370888816\n"
     ]
    }
   ],
   "source": [
    "print_info_about_FlowDataPoints()"
   ]
  },
  {
   "cell_type": "markdown",
   "id": "27613057-39c6-457e-a389-00041259f715",
   "metadata": {},
   "source": [
    "The link between the instance attribute and the class attribute for `flow_point_1` has been broken.  So, be careful when assigning a class attribute by referencing an instance as it will break the connection.  This is true even if you try and reset the `flow_point_1` variable back to the class variable."
   ]
  },
  {
   "cell_type": "code",
   "execution_count": 13,
   "id": "9de1d819-15ad-42b8-82c8-207af2184d8c",
   "metadata": {},
   "outputs": [],
   "source": [
    "# Assign instance.unit_system to the class.unit_system\n",
    "flow_point_1.unit_system = FlowDataPoint.unit_system"
   ]
  },
  {
   "cell_type": "code",
   "execution_count": 14,
   "id": "79b2b207-d18a-4cba-998f-9dd807c3a821",
   "metadata": {},
   "outputs": [
    {
     "name": "stdout",
     "output_type": "stream",
     "text": [
      "Variable        Memory Loc    unit_system value  ID of unit_system\n",
      "flow_point_1    2606415594128    Other           2606370888816\n",
      "flow_point_2    2606415595408    Other           2606370888816\n",
      "flow_point_3    2606415595856    Other           2606370888816\n",
      "FlowDataPoint   2606396723216    Other           2606370888816\n"
     ]
    }
   ],
   "source": [
    "print_info_about_FlowDataPoints()"
   ]
  },
  {
   "cell_type": "markdown",
   "id": "efe14e62-695c-43c8-8581-d2e682855c62",
   "metadata": {},
   "source": [
    "It would appear that `unit_system` in all instances of the class now point to the class attribute value.  But, if we change the class attribute again:"
   ]
  },
  {
   "cell_type": "code",
   "execution_count": 15,
   "id": "51f2f89f-470c-4ddc-b062-7bffd2afbe3c",
   "metadata": {},
   "outputs": [
    {
     "name": "stdout",
     "output_type": "stream",
     "text": [
      "Variable        Memory Loc    unit_system value  ID of unit_system\n",
      "flow_point_1    2606415594128    Other           2606370888816\n",
      "flow_point_2    2606415595408    YetAnother      2606415795504\n",
      "flow_point_3    2606415595856    YetAnother      2606415795504\n",
      "FlowDataPoint   2606396723216    YetAnother      2606415795504\n"
     ]
    }
   ],
   "source": [
    "FlowDataPoint.unit_system = \"YetAnother\"\n",
    "print_info_about_FlowDataPoints()\n"
   ]
  },
  {
   "cell_type": "markdown",
   "id": "58cdf2c6-b9d9-4af5-b2e5-338197d6469c",
   "metadata": {},
   "source": [
    "We see that the `flow_point_1.unit_system` does not track with the class attribute."
   ]
  },
  {
   "cell_type": "markdown",
   "id": "a385aeb2-6ad1-4afb-96aa-fa78bfe48b6c",
   "metadata": {},
   "source": [
    "## Class Methods\n",
    "Class methods are functions that are associated with a class, have access to the class attributes, but do not have access to specific instance attributes.  A method is defined as a class method when the `@classmethod` decorator is declared before the method definition.  Then, the first parameter of the method is the `cls` parameter that allows for access to class attributes, if needed.\n",
    "\n",
    "Class methods are accessed outside of the class by calling the class name itself.  Example:"
   ]
  },
  {
   "cell_type": "code",
   "execution_count": 16,
   "id": "933ab4a2-fcff-4412-82f8-632a342e1127",
   "metadata": {},
   "outputs": [
    {
     "name": "stdout",
     "output_type": "stream",
     "text": [
      "Conversion of 1 liter to gallons is  0.21996924829908776\n"
     ]
    }
   ],
   "source": [
    "print(\"Conversion of 1 liter to gallons is \",FlowDataPoint.convert_liter_to_gallon(1))"
   ]
  },
  {
   "cell_type": "markdown",
   "id": "a8fe157f-9d45-42a2-b255-a4a2b9a712b9",
   "metadata": {},
   "source": [
    "An instance of the class can also be used to call the method, but since it doesn't have access to the instance variables, all instances should give the same results."
   ]
  },
  {
   "cell_type": "code",
   "execution_count": 17,
   "id": "bbee2159-66ba-4253-8143-463fc92e7053",
   "metadata": {},
   "outputs": [
    {
     "name": "stdout",
     "output_type": "stream",
     "text": [
      "Conversion of 1 liter to gallons is  0.21996924829908776\n",
      "Conversion of 1 liter to gallons is  0.21996924829908776\n"
     ]
    }
   ],
   "source": [
    "print(\"Conversion of 1 liter to gallons is \",flow_point_1.convert_liter_to_gallon(1))\n",
    "print(\"Conversion of 1 liter to gallons is \",flow_point_2.convert_liter_to_gallon(1))"
   ]
  },
  {
   "cell_type": "markdown",
   "id": "6b1806e4-4fff-40a9-b47d-e01b7b05144c",
   "metadata": {},
   "source": [
    "## Using Class Attributes and Class Methods inside of class\n",
    "\n",
    "When writing a standard method in the class, we access the class attributes and class methods the same way as any other attribute or method:  by using the `self.` prefix.  If you look at the `FlowDataPoint.get_flow_rate` method, it accesses the `unit_system` class attribute by `self.unit_system` and it calls the `convert_liter_to_gallon` class method by `self.conver_liter_to_gallon`.\n",
    "\n",
    "If, inside the `class method` you want to access a class attribute, you would append it with the `cls.` prefix."
   ]
  },
  {
   "cell_type": "markdown",
   "id": "2896c290-bb3e-4288-8438-e9b9ddcd4f83",
   "metadata": {},
   "source": [
    "## Static Methods\n",
    "There is another type of method that can be defined as part of a class, and it is the \"static method\".  A static method does not have access to either instance or class attributes.  It is essentially just a standard function that you want to \"bundle\" with a class.  Static methods are defined with the `@staticmethod` decorator and do not need to start with a `self` or `cls` parameter.  Here is an example:"
   ]
  },
  {
   "cell_type": "code",
   "execution_count": 18,
   "id": "3806eeab-d2ea-4ceb-9935-ec4764b4be50",
   "metadata": {},
   "outputs": [
    {
     "name": "stdout",
     "output_type": "stream",
     "text": [
      "Seven dollars in euros is  6.44\n"
     ]
    }
   ],
   "source": [
    "class InventoryItem:\n",
    "\n",
    "    def __init__(self, name, unit_cost_dollars):\n",
    "        self.name = name\n",
    "        self.unit_cost_dollars = unit_cost_dollars\n",
    "\n",
    "    @staticmethod\n",
    "    def convert_dollars_to_euros(dollars, exchange_rate):\n",
    "        euros = dollars * exchange_rate\n",
    "        return euros\n",
    "\n",
    "\n",
    "print(\"Seven dollars in euros is \",InventoryItem.convert_dollars_to_euros(7, 0.92))"
   ]
  },
  {
   "cell_type": "code",
   "execution_count": null,
   "id": "1c98c4eb-6bbe-434e-9f6c-b9ea31becc04",
   "metadata": {},
   "outputs": [],
   "source": []
  }
 ],
 "metadata": {
  "kernelspec": {
   "display_name": "Python 3 (ipykernel)",
   "language": "python",
   "name": "python3"
  },
  "language_info": {
   "codemirror_mode": {
    "name": "ipython",
    "version": 3
   },
   "file_extension": ".py",
   "mimetype": "text/x-python",
   "name": "python",
   "nbconvert_exporter": "python",
   "pygments_lexer": "ipython3",
   "version": "3.11.1"
  }
 },
 "nbformat": 4,
 "nbformat_minor": 5
}
