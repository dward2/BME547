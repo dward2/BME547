{
 "cells": [
  {
   "cell_type": "markdown",
   "metadata": {},
   "source": [
    "# MongoDB from Python\n",
    "This notebook introduces how we communicate with a MongoDB database server from Python. A package called PyMongo provides the necessary functionality.\n",
    "\n",
    "First, we need to install two packages into our virtual environment:  `pymongo` and `dnspython`.  The `dnspython` package is required by `pymongo` but is not automatically installed during the `pymongo` installation.  With our virtual environment activated, enter the following at the command line:\n",
    "\n",
    "```\n",
    "pip install pymongo\n",
    "pip install dnspython\n",
    "```\n",
    "\n",
    "Next, we must connect to a running instance of MongoDB. A MongoDB database server can be running in many different places.  It could be on your machine (`localhost` or `127.0.0.1`), or perhaps a machine in the cloud (`vcm-0000.vm.duke.edu`), or a MongoDB Cloud server. This notebook demonstrates connecting to the MongoDB Atlas cloud database server.  The following instructions assume that you have already set up and configured your own instance of a MongoDB Atlas cluster."
   ]
  },
  {
   "metadata": {},
   "cell_type": "markdown",
   "source": [
    "## Creating a Connection to MongoDB\n",
    "In our code, we are going to create a \"client\" variable that we will use to access the MongoDB server.  First, we need to import the `MongoClient` class from the `pymongo` package."
   ]
  },
  {
   "metadata": {},
   "cell_type": "code",
   "source": "from pymongo import MongoClient",
   "outputs": [],
   "execution_count": null
  },
  {
   "metadata": {},
   "cell_type": "markdown",
   "source": "Next, we create a `MongoClient` instance as follows:"
  },
  {
   "metadata": {},
   "cell_type": "code",
   "source": [
    "uri = \"<connection_string>\"\n",
    "client = MongoClient(uri)"
   ],
   "outputs": [],
   "execution_count": null
  },
  {
   "cell_type": "markdown",
   "metadata": {},
   "source": [
    "In the above code, replace `<connection_string>` with the connection string you obtained from the MongoDB Atlas on-line interface.  Remember to replace the <db_username> and <db_password> with the appropriate values you created during setup of the database access account.\n",
    "\n",
    "You can test the connection as follows:"
   ]
  },
  {
   "metadata": {},
   "cell_type": "code",
   "source": "client.admin.command({'ping': 1})",
   "outputs": [],
   "execution_count": null
  },
  {
   "metadata": {},
   "cell_type": "markdown",
   "source": [
    "If the connection is successful, the above command will be successful and the program will continue.  If the connection is not successful, an `OperationFailure` error will halt the program and provide some information about the connection error.\n",
    "\n",
    "While not necessary for this class, if in the future you would like your communications with the MongoDB server to be secure, you can add the TLS protocol to your connection.  To do so, add `tls=True` to the creation of the `MongoClient` as shown here:  `client = MongoClient(uri, tls=True)`."
   ]
  },
  {
   "metadata": {},
   "cell_type": "markdown",
   "source": [
    "## MongoDB Organization:  Databases, Collections, and Documents\n",
    "Within the MongoDB cluster you created in Atlas, you can have multiple databases.  Within each database, you can have multiple collections.  Collections are a set of documents.\n",
    "\n",
    "Let's start at the bottom.  A __document__ is the basic entry in the database and generally is meant to refer to a specific item:  a single patient, a blog entry, a piece of equipment, etc.  You will generally have many of these specific items that you want to keep track of.  And, each specific item will have its own document.\n",
    "\n",
    "These documents of the same type are grouped in __collections__.  So, all patients would be in the Patient collection, all blog posts in the Blog collection, or all equipment in the Equipment collection, etc.  This way, when you are looking for a certain item, you can go to a particular collection and look for it there.\n",
    "\n",
    "Finally, groups of collections can be put together into a __database__.  These collections in a database are generally related to each other in some way.\n",
    "\n",
    "The exact organization is up to the database/software designer."
   ]
  },
  {
   "metadata": {},
   "cell_type": "markdown",
   "source": [
    "## Access a Database\n",
    "Generally, you will have a single database for each project you are working on.  We define a variable to point to the database of interest by using the `client` variable as follows:"
   ]
  },
  {
   "metadata": {},
   "cell_type": "code",
   "source": "database = client[\"class_demo\"]",
   "outputs": [],
   "execution_count": null
  },
  {
   "metadata": {},
   "cell_type": "markdown",
   "source": "If the given database name does not exist in MongoDB, it will be created when the first document is added to it."
  },
  {
   "metadata": {},
   "cell_type": "markdown",
   "source": [
    "## Access a Collection\n",
    "To access a collection within a database, we define a variable to point to that collection using the `database` variable as follows:"
   ]
  },
  {
   "metadata": {},
   "cell_type": "code",
   "source": "collection = database[\"user\"]",
   "outputs": [],
   "execution_count": null
  },
  {
   "metadata": {},
   "cell_type": "markdown",
   "source": "Again, if the collection does not already exist in MongoDB, it will be created when the first document is added."
  },
  {
   "metadata": {},
   "cell_type": "markdown",
   "source": [
    "## Database Usage:  CRUD\n",
    "\n",
    "### Create\n",
    "To create an entry in our database, we first make a connection to the collection in which we want to add a new document following the steps above.  Then, we need to define the document.  The contents of a document are generally defined as key:value pairs, or a dictionary in Python terminology.  For example:"
   ]
  },
  {
   "metadata": {},
   "cell_type": "code",
   "source": "user_document = {\"email\": \"suyash@suyashkumar.com\", \"first_name\": \"Suyash\", \"last_name\": \"Kumar\", \"age\": 1000}",
   "outputs": [],
   "execution_count": null
  },
  {
   "metadata": {},
   "cell_type": "markdown",
   "source": "Then, we can add this document to our collection as follows:"
  },
  {
   "metadata": {},
   "cell_type": "code",
   "source": "collection.insert_one(user_document)",
   "outputs": [],
   "execution_count": null
  },
  {
   "metadata": {},
   "cell_type": "markdown",
   "source": [
    "Note that the command above returned a result that included an object id.  And, if you go to MongoDB, you will see that the document has been added and has been assigned an `_id` key with that object id.  MongoDB, along with any database, needs to somehow identify each document uniquely.  In MongoDB, this unique id is stored in the `_id` key.  We will talk about that a little more below.\n",
    "\n",
    "Let's add a couple of more documents to our database.  Remember that in a non-relational database like MongoDB, each document can have its own set of key:value pairs.  So, it is up to us as programmer to be consistent and use the same set of key:value pairs when we are compiling similar documents in a collection.  Here is where a function to create a database entry might be helpful.\n"
   ]
  },
  {
   "metadata": {},
   "cell_type": "code",
   "source": [
    "def create_user_entry(collection, email, first_name, last_name, age):\n",
    "    user_document = {\"email\": email, \"first_name\": first_name, \"last_name\": last_name, \"age\": age}\n",
    "    result = collection.insert_one(user_document)\n",
    "    return result\n",
    "\n",
    "create_user_entry(collection, \"mark@test.com\", \"Mark\", \"Palmeri\", 2000)\n",
    "create_user_entry(collection, \"bob@test.com\", \"Bob\", \"Smith\", 2000)\n"
   ],
   "outputs": [],
   "execution_count": null
  },
  {
   "metadata": {},
   "cell_type": "markdown",
   "source": [
    "### Retrieve\n",
    "We can retrieve data from the database by using the `.find` method of the collection variable.  The `find` method does not return the actual documents, but a \"cursor\" to the set of found documents.  You then need to navigate through the documents using this cursor.  The easiest way of doing that is with a `for` loop."
   ]
  },
  {
   "metadata": {},
   "cell_type": "code",
   "source": [
    "all_users_cursor = collection.find()\n",
    "for user in all_users_cursor:\n",
    "    print(user)"
   ],
   "outputs": [],
   "execution_count": null
  },
  {
   "metadata": {},
   "cell_type": "markdown",
   "source": "Or, you can move the cursor manually through the found documents using the `.next()` method of the find results:"
  },
  {
   "metadata": {},
   "cell_type": "code",
   "source": [
    "all_users_cursor = collection.find()\n",
    "print(all_users_cursor.next())\n",
    "print(all_users_cursor.next())"
   ],
   "outputs": [],
   "execution_count": null
  },
  {
   "metadata": {},
   "cell_type": "markdown",
   "source": "With this approach, you need to be careful because you will generate an error if you run out of entries."
  },
  {
   "metadata": {},
   "cell_type": "code",
   "source": [
    "print(all_users_cursor.next())\n",
    "print(all_users_cursor.next())"
   ],
   "outputs": [],
   "execution_count": null
  },
  {
   "metadata": {},
   "cell_type": "markdown",
   "source": [
    "The reason `pymongo` returns a cursor to the documents instead of the documents themselves it that it is not uncommon for database searches to returns thousands or more of documents.  That number of documents may overwhelm the memory available to your program.  Remember, one advantage of using an external database is to save on memory usage with large databases.  So, the cursor concept allows you to search for and find many documents, but only have access to a few of them at any one time to save on memory.\n",
    "\n",
    "However, if you do want all of the documents at once, you can convert the cursor into an actual list of results.  Just be careful that your list isn't too long."
   ]
  },
  {
   "metadata": {},
   "cell_type": "code",
   "source": [
    "all_users_cursor = collection.find()\n",
    "all_users = list(all_users_cursor)\n",
    "print(len(all_users))\n",
    "print(all_users)"
   ],
   "outputs": [],
   "execution_count": null
  },
  {
   "metadata": {},
   "cell_type": "markdown",
   "source": [
    "#### Query Filter\n",
    "When making a find request, you can specify a query to return only certain documents that match a certain set of criteria.  For example, let's find those users whose age is 2000."
   ]
  },
  {
   "metadata": {},
   "cell_type": "code",
   "source": [
    "users_cursor = collection.find({\"age\": 2000})\n",
    "for user in users_cursor:\n",
    "    print(user)"
   ],
   "outputs": [],
   "execution_count": null
  },
  {
   "metadata": {},
   "cell_type": "markdown",
   "source": "If we want to look at a range of possible results, we use comparisons.  Details on Comparison Query Operators in MongoDB can be found at <https://www.mongodb.com/docs/manual/reference/operator/query-comparison/>.  Below is example syntax of a greater than or equal query.  Also, note in this example that the query is done directly in the `for` loop definition."
  },
  {
   "metadata": {},
   "cell_type": "code",
   "source": [
    "for user in collection.find({\"age\": {\"$gte\": 1000}}):\n",
    "    print(user)"
   ],
   "outputs": [],
   "execution_count": null
  },
  {
   "metadata": {},
   "cell_type": "markdown",
   "source": [
    "#### Returning Single Document\n",
    "If you know that you will only find a single document (or you only want the first document that matches a query), you can use the `.find_one()` method."
   ]
  },
  {
   "metadata": {},
   "cell_type": "code",
   "source": [
    "mark_user = collection.find_one({\"first_name\": \"Mark\"})\n",
    "print(mark_user)"
   ],
   "outputs": [],
   "execution_count": null
  },
  {
   "metadata": {},
   "cell_type": "markdown",
   "source": [
    "### Update\n",
    "To update a document in MongoDB, the easiest way is to 1) retrieve the document to update, 2) modify its contents as desired, and 3) replace the document usings its unique identifier.\n",
    "\n",
    "The steps for doing this are shown in the example below where Mark's age is changed from 2000 to 1750."
   ]
  },
  {
   "metadata": {},
   "cell_type": "code",
   "source": [
    "# 1. Retrieve document\n",
    "mark_user = collection.find_one({\"first_name\": \"Mark\"})\n",
    "print(\"Age before change: {}\".format(mark_user[\"age\"]))\n",
    "# 2. Update the contents of the document\n",
    "mark_user[\"age\"] = 1750\n",
    "# 3. Replace with the updated document using its unique identifier\n",
    "collection.replace_one({\"_id\": mark_user[\"_id\"]}, mark_user)\n",
    "\n",
    "# Verify it worked\n",
    "new_mark_user = collection.find_one({\"first_name\": \"Mark\"})\n",
    "print(\"Age after change: {}\".format(new_mark_user[\"age\"]))"
   ],
   "outputs": [],
   "execution_count": null
  },
  {
   "metadata": {},
   "cell_type": "markdown",
   "source": [
    "### Delete\n",
    "There is not often a reason to documents entries from a database.  But, it is sometimes necessary.  And, as we will discuss in database testing, we will often want to add test entries and then delete them during testing.  You can delete a single document by using the `.delete_one` method of the collection and specify the search criteria for the document that should be deleted.\n",
    "\n"
   ]
  },
  {
   "metadata": {},
   "cell_type": "code",
   "source": "collection.delete_one({\"first_name\": \"Mark\"})",
   "outputs": [],
   "execution_count": null
  },
  {
   "metadata": {},
   "cell_type": "markdown",
   "source": "The `.delete_one` method will only delete the first item found.  If multiple items that match the query need to be deleted, use the `.delete_many` method.  To delete all documents in the collection, use `.delete_many` and provide an empty query.  Example:"
  },
  {
   "metadata": {},
   "cell_type": "code",
   "source": [
    "collection.delete_many({})\n",
    "\n",
    "all_users = list(collection.find())\n",
    "print(len(all_users))"
   ],
   "outputs": [],
   "execution_count": null
  },
  {
   "metadata": {},
   "cell_type": "markdown",
   "source": "Another way of deleting all documents in a collection is to simply delete the collection itself, as shown below."
  },
  {
   "metadata": {},
   "cell_type": "code",
   "source": "collection.drop()",
   "outputs": [],
   "execution_count": null
  },
  {
   "metadata": {},
   "cell_type": "markdown",
   "source": [
    "## Using Unique ID as a Primary Key\n",
    "As mentioned above, each document in a collection needs a unique ID (`_id`) to separate it from every other document.  This is often known as a primary key.  It is the \"key\" that primarily defines the document.  If we do not specify a unique ID when creating a document in MongoDB, MongoDB creates its own.  But, it is possible for us to define our own unique ids to use as a primary key.\n",
    "\n",
    "For example, lets think about a user database.  What piece of information about a person uniquely identifies them.  It isn't name because we know many people have the same name.  It isn't age or address.  But, it could be an e-mail:  only one person should have a particular e-mail (although that isn't always true for families).  Or, a medical record number.\n",
    "\n",
    "MongoDB enforces that no two documents can have the same unique id, or `_id`.  So, if there is a similar field in our document that we want to be unique to each user, we could use that as the `_id` instead of having MongoDB define it for us.  Let's think of the example of a medical equipment database.  What can uniquely identify each item is its serial number.  Here is an example:"
   ]
  },
  {
   "metadata": {},
   "cell_type": "code",
   "source": [
    "eq_database = client[\"equipment\"]\n",
    "eq_collection = eq_database[\"equipment\"]\n",
    "\n",
    "def add_equipment(eq_collection, serial_number, name, room_location):\n",
    "    new_equipment = {\"_id\": serial_number, \"name\": name, \"room_location\": room_location}\n",
    "    eq_collection.insert_one(new_equipment)\n",
    "\n",
    "add_equipment(eq_collection, 4564567, \"Electrocardiograph\", \"B203\")\n",
    "add_equipment(eq_collection, 334576, \"BP Monitor\", \"B203\")\n",
    "add_equipment(eq_collection, 7445644, \"Electrocardiograph\", \"A123\")\n",
    "\n",
    "# Find by serial number\n",
    "device = eq_collection.find_one({\"_id\": 7445644})\n",
    "print(\"Device Serial Number: {}\".format(device[\"_id\"]))\n",
    "print(\"Device Name: {}\".format(device[\"name\"]))\n",
    "print(\"Device Room Location: {}\".format(device[\"room_location\"]))\n"
   ],
   "outputs": [],
   "execution_count": null
  },
  {
   "metadata": {},
   "cell_type": "markdown",
   "source": [
    "## Python Data Types in MongoDB Documents\n",
    "The examples above used simply data types, integers and strings, as values in the documents.  But, MongoDB can accept more complex data types, such as dictionaries, lists, booleans, and nested types.  Here is an example:"
   ]
  },
  {
   "metadata": {},
   "cell_type": "code",
   "outputs": [],
   "execution_count": null,
   "source": [
    "from datetime import datetime\n",
    "\n",
    "database = client[\"university_db\"]\n",
    "collection = database[\"students\"]\n",
    "\n",
    "# Create\n",
    "document = {\"student_id\": 123,\n",
    "            \"grades\": [\"A\", \"A\", \"C\", \"B\"],\n",
    "            \"address\": {\"street\": \"123 Main\", \"city\": \"Durham\"},\n",
    "            \"enrolled\": True,\n",
    "            \"balance\": 14000.13,\n",
    "            \"timestamp\": datetime.now()}\n",
    "collection.insert_one(document)\n",
    "\n",
    "# Retrieve\n",
    "student = collection.find_one({\"student_id\": 123})\n",
    "print(student)\n",
    "\n",
    "# Update\n",
    "student[\"grades\"].append(\"B+\")\n",
    "student[\"enrolled\"] = False\n",
    "student[\"balance\"] -= 3000.54\n",
    "collection.replace_one({\"_id\": student[\"_id\"]}, student)\n",
    "\n",
    "# Verify changes\n",
    "updated_student = collection.find_one({\"student_id\": 123})\n",
    "print(student)"
   ]
  },
  {
   "metadata": {},
   "cell_type": "markdown",
   "source": "More information on the types of data that can be stored can be found at <https://www.mongodb.com/docs/languages/python/pymongo-driver/current/data-formats/>."
  },
  {
   "metadata": {},
   "cell_type": "markdown",
   "source": [
    "## References\n",
    "PyMongo Documentation:  <https://www.mongodb.com/docs/languages/python/pymongo-driver/current/>"
   ]
  }
 ],
 "metadata": {
  "kernelspec": {
   "display_name": "Python 3 (ipykernel)",
   "language": "python",
   "name": "python3"
  },
  "language_info": {
   "codemirror_mode": {
    "name": "ipython",
    "version": 3
   },
   "file_extension": ".py",
   "mimetype": "text/x-python",
   "name": "python",
   "nbconvert_exporter": "python",
   "pygments_lexer": "ipython3",
   "version": "3.10.1"
  }
 },
 "nbformat": 4,
 "nbformat_minor": 2
}
