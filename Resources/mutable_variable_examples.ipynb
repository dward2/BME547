{
 "cells": [
  {
   "cell_type": "markdown",
   "source": [
    "# Mutable Variable Example\n",
    "\n",
    "## Question:  \n",
    "When this code is run:\n",
    "```python\n",
    "sounds = [\"Fa\", \"La\", \"Ti\"]\n",
    "sounds2 = [sounds] * 2\n",
    "sounds[1] = \"So\"\n",
    "print(sounds2)\n",
    "```\n",
    "the output is `[['Fa', 'So', 'Ti'], ['Fa', 'So', 'Ti']]`.\n",
    "\n",
    "But, when this code is run:\n",
    "```python\n",
    "sounds = [\"Fa\", \"La\", \"Ti\"]\n",
    "sounds2 = sounds * 2\n",
    "sounds[1] = \"So\"\n",
    "print(sounds2)\n",
    "```\n",
    "the output is `['Fa', 'La', 'Ti', 'Fa', 'La', 'Ti']`.\n",
    "\n",
    "Why is `La` changed to `So` in the first example, but not the second?\n"
   ],
   "metadata": {
    "collapsed": false
   },
   "id": "5e47d7f55e00b90a"
  },
  {
   "cell_type": "markdown",
   "source": [
    "## Answer\n",
    "Let's look line by line at the first example.  Execute the following code block to run the first line that creates the `sounds` variable and then get the memory location at which this variable is stored using the `id()` function."
   ],
   "metadata": {
    "collapsed": false
   },
   "id": "7c4ab8dba615a7e4"
  },
  {
   "cell_type": "code",
   "execution_count": 1,
   "outputs": [
    {
     "name": "stdout",
     "output_type": "stream",
     "text": [
      "sounds is: ['Fa', 'La', 'Ti']\n",
      "sounds at memory 2530381909568\n"
     ]
    }
   ],
   "source": [
    "sounds = [\"Fa\", \"La\", \"Ti\"]\n",
    "print(\"sounds is: {}\".format(sounds))\n",
    "print(\"sounds at memory {}\".format(id(sounds)))"
   ],
   "metadata": {
    "collapsed": false,
    "ExecuteTime": {
     "end_time": "2023-09-12T19:41:59.515897300Z",
     "start_time": "2023-09-12T19:41:59.503785900Z"
    }
   },
   "id": "a82e3183694de321"
  },
  {
   "cell_type": "markdown",
   "source": [
    "Python creates a list at the memory location listed above and points the name `sounds` to it.  Now, execute the next cell to run the second line of our example."
   ],
   "metadata": {
    "collapsed": false
   },
   "id": "e4e4f1616e77d263"
  },
  {
   "cell_type": "code",
   "execution_count": 2,
   "outputs": [
    {
     "name": "stdout",
     "output_type": "stream",
     "text": [
      "sounds2 is: [['Fa', 'La', 'Ti'], ['Fa', 'La', 'Ti']]\n",
      "sounds2 at memory 2530381915648\n",
      "sounds2[0] at memory 2530381909568\n",
      "sounds2[1] at memory 2530381909568\n"
     ]
    }
   ],
   "source": [
    "sounds2 = [sounds] * 2\n",
    "print(\"sounds2 is: {}\".format(sounds2))\n",
    "print(\"sounds2 at memory {}\".format(id(sounds2)))\n",
    "print(\"sounds2[0] at memory {}\".format(id(sounds2[0])))\n",
    "print(\"sounds2[1] at memory {}\".format(id(sounds2[1])))"
   ],
   "metadata": {
    "collapsed": false,
    "ExecuteTime": {
     "end_time": "2023-09-12T19:41:59.544378400Z",
     "start_time": "2023-09-12T19:41:59.512911100Z"
    }
   },
   "id": "14a1b0334501d3d6"
  },
  {
   "cell_type": "markdown",
   "source": [
    "When a list is multiplied by an integer, Python will create a new list that has the integer number of copies of the object in the original list.  Python interprets `[sounds]` to be a list with a single object that is the list at the memory location shown above for `sounds`.  Therefore, `sounds2 = [sounds] * 2` creates a new list at a new memory location and this new list has two copies of the single item in `[sounds]`.  Python doesn't make a new copy of `sounds` in a different memory location, but simply points to it twice.  So, each item of `sounds2` points to the same list found at the `sounds` memory location.  \n",
    "\n",
    "Execute the next cell for the third line of our example."
   ],
   "metadata": {
    "collapsed": false
   },
   "id": "89bff6c2b224daa9"
  },
  {
   "cell_type": "code",
   "execution_count": 3,
   "outputs": [
    {
     "name": "stdout",
     "output_type": "stream",
     "text": [
      "['Fa', 'So', 'Ti']\n",
      "sounds is: ['Fa', 'So', 'Ti']\n",
      "sounds at memory 2530381909568\n",
      "sounds2 at memory 2530381915648\n",
      "sounds2[0] at memory 2530381909568\n",
      "sounds2[1] at memory 2530381909568\n"
     ]
    }
   ],
   "source": [
    "sounds[1] = \"So\"\n",
    "print(sounds)\n",
    "print(\"sounds is: {}\".format(sounds))\n",
    "print(\"sounds at memory {}\".format(id(sounds)))\n",
    "print(\"sounds2 at memory {}\".format(id(sounds2)))\n",
    "print(\"sounds2[0] at memory {}\".format(id(sounds2[0])))\n",
    "print(\"sounds2[1] at memory {}\".format(id(sounds2[1])))"
   ],
   "metadata": {
    "collapsed": false,
    "ExecuteTime": {
     "end_time": "2023-09-12T19:41:59.601828400Z",
     "start_time": "2023-09-12T19:41:59.541366300Z"
    }
   },
   "id": "dae39d09e033383d"
  },
  {
   "cell_type": "markdown",
   "source": [
    "`sounds[1] = \"So\"` replaces the second object in the `sounds` list.  Since a list is a mutable object, the same memory location is used for the updated list.  Therefore, `sounds2` which has two objects both pointing to the same memory location of `sounds`, has both of its lists updated with \"So\" as shown below if you execute the cell."
   ],
   "metadata": {
    "collapsed": false
   },
   "id": "d9300ddcdd8c4f7b"
  },
  {
   "cell_type": "code",
   "execution_count": 4,
   "outputs": [
    {
     "name": "stdout",
     "output_type": "stream",
     "text": [
      "[['Fa', 'So', 'Ti'], ['Fa', 'So', 'Ti']]\n"
     ]
    }
   ],
   "source": [
    "print(sounds2)"
   ],
   "metadata": {
    "collapsed": false,
    "ExecuteTime": {
     "end_time": "2023-09-12T19:41:59.602855300Z",
     "start_time": "2023-09-12T19:41:59.552212300Z"
    }
   },
   "id": "d8d5aa7ef77cab36"
  },
  {
   "cell_type": "markdown",
   "source": [
    "Now, let's look at the second example.  Let's revert `sounds` back to its original form by executing this next cell."
   ],
   "metadata": {
    "collapsed": false
   },
   "id": "e93b6262cf68d9cc"
  },
  {
   "cell_type": "code",
   "execution_count": 5,
   "outputs": [
    {
     "name": "stdout",
     "output_type": "stream",
     "text": [
      "sounds is: ['Fa', 'La', 'Ti']\n",
      "sounds at memory 2530381917120\n",
      "The memory location for the items in sounds are:\n",
      "2530381754608 2530381764848 2530381747888\n"
     ]
    }
   ],
   "source": [
    "sounds = [\"Fa\", \"La\", \"Ti\"]\n",
    "print(\"sounds is: {}\".format(sounds))\n",
    "print(\"sounds at memory {}\".format(id(sounds)))\n",
    "print(\"The memory location for the items in sounds are:\")\n",
    "print(id(sounds[0]), id(sounds[1]), id(sounds[2]))"
   ],
   "metadata": {
    "collapsed": false,
    "ExecuteTime": {
     "end_time": "2023-09-12T19:41:59.602855300Z",
     "start_time": "2023-09-12T19:41:59.561580600Z"
    }
   },
   "id": "362662f096009422"
  },
  {
   "cell_type": "markdown",
   "source": [
    "Since we are making a new version of `sounds` rather than modifying the old one, a new memory location is assigned.  Next, execute the cell below to run the second line of the second example."
   ],
   "metadata": {
    "collapsed": false
   },
   "id": "caefbba2c5101d34"
  },
  {
   "cell_type": "code",
   "execution_count": 6,
   "outputs": [
    {
     "name": "stdout",
     "output_type": "stream",
     "text": [
      "sounds2 is: ['Fa', 'La', 'Ti', 'Fa', 'La', 'Ti']\n",
      "sounds2 at memory 2530381919360\n",
      "The memory locations for the items in sounds2 are:\n",
      "2530381754608 2530381764848 2530381747888 2530381754608 2530381764848 2530381747888\n"
     ]
    }
   ],
   "source": [
    "sounds2 = sounds * 2\n",
    "print(\"sounds2 is: {}\".format(sounds2))\n",
    "print(\"sounds2 at memory {}\".format(id(sounds2)))\n",
    "print(\"The memory locations for the items in sounds2 are:\")\n",
    "print(id(sounds2[0]), id(sounds2[1]), id(sounds2[2]), id(sounds2[3]), id(sounds2[4]), id(sounds2[5]))"
   ],
   "metadata": {
    "collapsed": false,
    "ExecuteTime": {
     "end_time": "2023-09-12T19:41:59.603825500Z",
     "start_time": "2023-09-12T19:41:59.570908800Z"
    }
   },
   "id": "4477cb5f9bac8b64"
  },
  {
   "cell_type": "markdown",
   "source": [
    "With the command `sounds2 = sounds *2`, Python makes a new list that has two copies of all of the items in the original list.  Since `sounds` is a list with three objects which are strings, the new list has six objects which are strings.  The individual strings in the `sounds2` list point to the same memory locations as the individual strings in the `sounds` list.  Next, execute the cell below to see what happens when we replace one of the strings in `sounds`."
   ],
   "metadata": {
    "collapsed": false
   },
   "id": "242e8483e15c8a24"
  },
  {
   "cell_type": "code",
   "execution_count": 7,
   "outputs": [
    {
     "name": "stdout",
     "output_type": "stream",
     "text": [
      "sounds is: ['Fa', 'So', 'Ti']\n",
      "sounds at memory 2530381917120\n",
      "The memory location of the items in sounds are:\n",
      "2530381754608 2530335649264 2530381747888\n",
      "sounds2 is: ['Fa', 'La', 'Ti', 'Fa', 'La', 'Ti']\n",
      "sounds2 at memory 2530381919360\n",
      "The memory location of the items in sounds2 are:\n",
      "2530381754608 2530381764848 2530381747888 2530381754608 2530381764848 2530381747888\n"
     ]
    }
   ],
   "source": [
    "sounds[1] = \"So\"\n",
    "print(\"sounds is: {}\".format(sounds))\n",
    "print(\"sounds at memory {}\".format(id(sounds)))\n",
    "print(\"The memory location of the items in sounds are:\")\n",
    "print(id(sounds[0]), id(sounds[1]), id(sounds[2]))\n",
    "print(\"sounds2 is: {}\".format(sounds2))\n",
    "print(\"sounds2 at memory {}\".format(id(sounds2)))\n",
    "print(\"The memory location of the items in sounds2 are:\")\n",
    "print(id(sounds2[0]), id(sounds2[1]), id(sounds2[2]), id(sounds2[3]), id(sounds2[4]), id(sounds2[5]))\n"
   ],
   "metadata": {
    "collapsed": false,
    "ExecuteTime": {
     "end_time": "2023-09-12T19:41:59.603825500Z",
     "start_time": "2023-09-12T19:41:59.580704500Z"
    }
   },
   "id": "e4795a2338b5ef59"
  },
  {
   "cell_type": "markdown",
   "source": [
    "With the assignment of a new string to `sounds[1]`, the id of the string in that position of `sounds` changes.  But, unlike the first example, `sounds2` does not \n",
    "point to the `sounds` list memory location, but rather to the original memory locations of the strings.  So, `sounds2` still points to the original strings and knows nothing about the new \"So\" string.  Therefore, when `sounds2` is printed, we still get the original strings, as shown below."
   ],
   "metadata": {
    "collapsed": false
   },
   "id": "3715b6fb71edd03f"
  },
  {
   "cell_type": "code",
   "execution_count": 8,
   "outputs": [
    {
     "name": "stdout",
     "output_type": "stream",
     "text": [
      "['Fa', 'La', 'Ti', 'Fa', 'La', 'Ti']\n"
     ]
    }
   ],
   "source": [
    "print(sounds2)"
   ],
   "metadata": {
    "collapsed": false,
    "ExecuteTime": {
     "end_time": "2023-09-12T19:41:59.604825500Z",
     "start_time": "2023-09-12T19:41:59.588192700Z"
    }
   },
   "id": "530e085c86b2ae0"
  }
 ],
 "metadata": {
  "kernelspec": {
   "display_name": "Python 3",
   "language": "python",
   "name": "python3"
  },
  "language_info": {
   "codemirror_mode": {
    "name": "ipython",
    "version": 2
   },
   "file_extension": ".py",
   "mimetype": "text/x-python",
   "name": "python",
   "nbconvert_exporter": "python",
   "pygments_lexer": "ipython2",
   "version": "2.7.6"
  }
 },
 "nbformat": 4,
 "nbformat_minor": 5
}
